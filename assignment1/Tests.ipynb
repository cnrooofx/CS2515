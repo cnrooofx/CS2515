{
 "cells": [
  {
   "cell_type": "code",
   "execution_count": 58,
   "metadata": {},
   "outputs": [],
   "source": [
    "class DLLNode:\n",
    "    \"\"\"Node for an item in a Doubly Linked List.\"\"\"\n",
    "\n",
    "    def __init__(self, item, prevnode, nextnode):\n",
    "        \"\"\"Create a DLLNode object.\"\"\"\n",
    "        self.item = item\n",
    "        self.next = nextnode\n",
    "        self.prev = prevnode\n",
    "\n",
    "\n",
    "class Track:\n",
    "    \"\"\"Track object to be used in a PyToonz playlist.\"\"\"\n",
    "\n",
    "    def __init__(self, name, artiste, timesplayed=0):\n",
    "        \"\"\"Create a Track object.\n",
    "\n",
    "        Args:\n",
    "            name (str): The name of the Track\n",
    "            atriste (str): The atriste of the Track\n",
    "            timesplayed (int): Counter for track plays (Default: 0)\n",
    "        \"\"\"\n",
    "        self._name = name\n",
    "        self._artiste = artiste\n",
    "        self._timesplayed = timesplayed\n",
    "\n",
    "    def __str__(self):\n",
    "        \"\"\"Return a string representation of the track.\"\"\"\n",
    "        s = '{}; {} ({})'.format(self._name, self._artiste, self._timesplayed)\n",
    "        return s\n",
    "\n",
    "    def get_name(self):\n",
    "        \"\"\"Return the name of the track.\"\"\"\n",
    "        return self._name\n",
    "\n",
    "    def get_artiste(self):\n",
    "        \"\"\"Return the name of the artiste.\"\"\"\n",
    "        return self._artiste\n",
    "\n",
    "    def play(self):\n",
    "        \"\"\"Play the track (Return string and increment it's play count).\"\"\"\n",
    "        self._timesplayed += 1\n",
    "        return 'Playing: ' + str(self)\n",
    "\n",
    "\n",
    "class PyToonz:\n",
    "    \"\"\"Class for a PyToonz playlist.\"\"\"\n",
    "\n",
    "    def __init__(self):\n",
    "        \"\"\"Create a PyToonz object.\"\"\"\n",
    "        self._head = DLLNode(None, None, None)\n",
    "        self._tail = DLLNode(None, self._head, None)\n",
    "        self._head.next = self._tail\n",
    "        self._selected = None\n",
    "        self._length = 0\n",
    "\n",
    "    def __str__(self):\n",
    "        \"\"\"Return a string representation of the playlist.\"\"\"\n",
    "        s_list = ['Playlist:']\n",
    "        if self._length > 0:\n",
    "            i = 0\n",
    "            track = self._head.next\n",
    "            while i < self._length:\n",
    "                item = str(track.item)\n",
    "                if track is self._selected:\n",
    "                    item = '--> ' + item\n",
    "                s_list.append(item)\n",
    "                track = track.next\n",
    "                i += 1\n",
    "        return '\\n'.join(s_list)\n",
    "\n",
    "    def length(self):\n",
    "        \"\"\"Return the length of the playlist.\"\"\"\n",
    "        return self._length\n",
    "\n",
    "    def add_track(self, track):\n",
    "        \"\"\"Add a new track to the end of the playlist.\"\"\"\n",
    "        self._add_track_node(track, self._tail.prev)\n",
    "\n",
    "    def get_current(self):\n",
    "        \"\"\"Return the currently selected track.\"\"\"\n",
    "        if self._selected is None:\n",
    "            return None\n",
    "        return 'Current track: ' + str(self._selected.item)\n",
    "\n",
    "    def add_after(self, track):\n",
    "        \"\"\"Add a new track after the currently selected track.\"\"\"\n",
    "        if self._selected is None:\n",
    "            self.add_track(track)  # If there is no selected track, add to end\n",
    "        else:\n",
    "            self._add_track_node(track, self._selected)\n",
    "\n",
    "    def next_track(self):\n",
    "        \"\"\"Select the next track in the playlist.\"\"\"\n",
    "        if self._selected is not None:\n",
    "            if self._selected.next is self._tail:  # If the next track is tail\n",
    "                self._selected = self._head.next  # Move current to first track\n",
    "            else:\n",
    "                self._selected = self._selected.next  # Set to the next track\n",
    "\n",
    "    def prev_track(self):\n",
    "        \"\"\"Select the previous track in the playlist.\"\"\"\n",
    "        if self._selected is not None:\n",
    "            if self._selected.prev is self._head:  # If the prev track is head\n",
    "                self._selected = self._tail.prev  # Move current to last track\n",
    "            else:\n",
    "                self._selected = self._selected.prev  # Set to previous track\n",
    "\n",
    "    def reset(self):\n",
    "        \"\"\"Set current track to first one in the playlist.\"\"\"\n",
    "        if self._length != 0:\n",
    "            self._selected = self._head.next\n",
    "\n",
    "    def play(self):\n",
    "        \"\"\"Play the currently selected track.\"\"\"\n",
    "        if self._selected is None:\n",
    "            print('Error - No track currently selected to play.')\n",
    "        else:\n",
    "            print(self._selected.item.play())\n",
    "\n",
    "    def remove_current(self):\n",
    "        \"\"\"Remove the currently selected track.\"\"\"\n",
    "        if self._selected is not None:\n",
    "            previous = self._selected.prev  # Track before removed one\n",
    "            next = self._selected.next   # Track after removed one\n",
    "\n",
    "            previous.next = next\n",
    "            next.prev = previous\n",
    "\n",
    "            self._selected.item = None\n",
    "            self._selected.next = None\n",
    "            self._selected.prev = None\n",
    "\n",
    "            self._length -= 1\n",
    "            if self._length == 0:\n",
    "                self._selected = None\n",
    "            elif next is self._tail:  # If the item was the last in the list\n",
    "                self._selected = previous  # Set the selection to the last item\n",
    "            else:\n",
    "                self._selected = next  # Set to item after the removed one\n",
    "\n",
    "    def _add_track_node(self, track, previous):\n",
    "        new_node = DLLNode(track, None, None)\n",
    "        next = previous.next     # Next track in the playlist\n",
    "\n",
    "        new_node.next = next   # Link new node to following node\n",
    "        next.prev = new_node\n",
    "        previous.next = new_node  # Link new node to preceding node\n",
    "        new_node.prev = previous\n",
    "\n",
    "        if self._length == 0:  # If the length is 0, it is the first track\n",
    "            self._selected = new_node  # Set the new node as selected\n",
    "        self._length += 1"
   ]
  },
  {
   "cell_type": "markdown",
   "metadata": {},
   "source": [
    "### Track"
   ]
  },
  {
   "cell_type": "code",
   "execution_count": 59,
   "metadata": {},
   "outputs": [
    {
     "name": "stdout",
     "output_type": "stream",
     "text": [
      "Track 1; Artist 1 (0)\n",
      "Track 2; Artist 1 (0)\n",
      "Track 3; Artist 2 (0)\n",
      "Playing: Track 1; Artist 1 (1)\n",
      "Playing: Track 1; Artist 1 (2)\n",
      "Playing: Track 1; Artist 1 (3)\n",
      "Playing: Track 1; Artist 1 (4)\n",
      "Track 1; Artist 1 (4)\n",
      "Artist 1\n",
      "Track 3\n"
     ]
    }
   ],
   "source": [
    "t1 = Track('Track 1', 'Artist 1')\n",
    "t2 = Track('Track 2', 'Artist 1')\n",
    "t3 = Track('Track 3', 'Artist 2')\n",
    "print(t1)\n",
    "print(t2)\n",
    "print(t3)\n",
    "print(t1.play())\n",
    "print(t1.play())\n",
    "print(t1.play())\n",
    "print(t1.play())\n",
    "print(t1)\n",
    "print(t2.get_artiste())\n",
    "print(t3.get_name())\n",
    "t1 = Track('Track 1', 'Artist 1')"
   ]
  },
  {
   "cell_type": "markdown",
   "metadata": {},
   "source": [
    "### PyToonz"
   ]
  },
  {
   "cell_type": "code",
   "execution_count": 60,
   "metadata": {},
   "outputs": [],
   "source": [
    "playlist = PyToonz()"
   ]
  },
  {
   "cell_type": "code",
   "execution_count": 61,
   "metadata": {},
   "outputs": [
    {
     "name": "stdout",
     "output_type": "stream",
     "text": [
      "Playlist:\n",
      "None\n"
     ]
    }
   ],
   "source": [
    "print(playlist)\n",
    "print(playlist.get_current())"
   ]
  },
  {
   "cell_type": "code",
   "execution_count": 62,
   "metadata": {},
   "outputs": [
    {
     "name": "stdout",
     "output_type": "stream",
     "text": [
      "Playlist:\n"
     ]
    }
   ],
   "source": [
    "playlist.reset()\n",
    "print(playlist)"
   ]
  },
  {
   "cell_type": "code",
   "execution_count": 63,
   "metadata": {},
   "outputs": [
    {
     "name": "stdout",
     "output_type": "stream",
     "text": [
      "Playlist:\n",
      "--> Track 1; Artist 1 (0)\n",
      "Track 2; Artist 1 (0)\n",
      "Track 3; Artist 2 (0)\n"
     ]
    }
   ],
   "source": [
    "playlist.add_track(t1)\n",
    "playlist.add_track(t2)\n",
    "playlist.add_track(t3)\n",
    "print(playlist)"
   ]
  },
  {
   "cell_type": "code",
   "execution_count": 64,
   "metadata": {},
   "outputs": [
    {
     "name": "stdout",
     "output_type": "stream",
     "text": [
      "Playing: Track 1; Artist 1 (1)\n"
     ]
    }
   ],
   "source": [
    "playlist.play()"
   ]
  },
  {
   "cell_type": "code",
   "execution_count": 65,
   "metadata": {},
   "outputs": [],
   "source": [
    "playlist.remove_current()\n"
   ]
  },
  {
   "cell_type": "code",
   "execution_count": 66,
   "metadata": {},
   "outputs": [
    {
     "name": "stdout",
     "output_type": "stream",
     "text": [
      "Playlist:\n",
      "Track 2; Artist 1 (0)\n",
      "--> Track 3; Artist 2 (0)\n"
     ]
    }
   ],
   "source": [
    "playlist.next_track()\n",
    "print(playlist)"
   ]
  },
  {
   "cell_type": "code",
   "execution_count": 67,
   "metadata": {},
   "outputs": [
    {
     "name": "stdout",
     "output_type": "stream",
     "text": [
      "Playlist:\n",
      "--> Track 2; Artist 1 (0)\n"
     ]
    }
   ],
   "source": [
    "playlist.remove_current()\n",
    "print(playlist)"
   ]
  },
  {
   "cell_type": "code",
   "execution_count": 68,
   "metadata": {},
   "outputs": [
    {
     "name": "stdout",
     "output_type": "stream",
     "text": [
      "Playing: Track 2; Artist 1 (1)\n",
      "None\n"
     ]
    }
   ],
   "source": [
    "print(playlist.play())"
   ]
  },
  {
   "cell_type": "code",
   "execution_count": 69,
   "metadata": {},
   "outputs": [
    {
     "name": "stdout",
     "output_type": "stream",
     "text": [
      "Playlist:\n",
      "--> Track 2; Artist 1 (1)\n",
      "Track 4; Artiste 1 (0)\n"
     ]
    }
   ],
   "source": [
    "t4 = Track('Track 4', 'Artiste 1')\n",
    "playlist.add_after(t4)\n",
    "print(playlist)"
   ]
  },
  {
   "cell_type": "code",
   "execution_count": 70,
   "metadata": {},
   "outputs": [
    {
     "name": "stdout",
     "output_type": "stream",
     "text": [
      "Playlist:\n",
      "Track 2; Artist 1 (1)\n",
      "--> Track 4; Artiste 1 (0)\n",
      "Playlist:\n",
      "--> Track 2; Artist 1 (1)\n",
      "Track 4; Artiste 1 (0)\n",
      "Playing: Track 2; Artist 1 (2)\n"
     ]
    }
   ],
   "source": [
    "playlist.next_track()\n",
    "print(playlist)\n",
    "playlist.reset()\n",
    "print(playlist)\n",
    "playlist.play()"
   ]
  },
  {
   "cell_type": "code",
   "execution_count": 71,
   "metadata": {},
   "outputs": [
    {
     "name": "stdout",
     "output_type": "stream",
     "text": [
      "Playlist:\n",
      "--> Track 2; Artist 1 (2)\n",
      "Track 4; Artiste 1 (0)\n",
      "Playlist:\n",
      "--> Track 4; Artiste 1 (0)\n"
     ]
    }
   ],
   "source": [
    "playlist.next_track()\n",
    "playlist.next_track()\n",
    "print(playlist)\n",
    "playlist.remove_current()\n",
    "print(playlist)"
   ]
  },
  {
   "cell_type": "code",
   "execution_count": 72,
   "metadata": {},
   "outputs": [
    {
     "name": "stdout",
     "output_type": "stream",
     "text": [
      "Playlist:\n"
     ]
    }
   ],
   "source": [
    "playlist.remove_current()\n",
    "playlist.remove_current()\n",
    "print(playlist)"
   ]
  },
  {
   "cell_type": "code",
   "execution_count": 73,
   "metadata": {},
   "outputs": [
    {
     "name": "stdout",
     "output_type": "stream",
     "text": [
      "Playlist:\n"
     ]
    }
   ],
   "source": [
    "playlist.remove_current()\n",
    "print(playlist)"
   ]
  },
  {
   "cell_type": "code",
   "execution_count": 74,
   "metadata": {},
   "outputs": [
    {
     "data": {
      "text/plain": [
       "0"
      ]
     },
     "execution_count": 74,
     "metadata": {},
     "output_type": "execute_result"
    }
   ],
   "source": [
    "playlist.length()"
   ]
  },
  {
   "cell_type": "code",
   "execution_count": 75,
   "metadata": {},
   "outputs": [],
   "source": [
    "playlist.reset()"
   ]
  },
  {
   "cell_type": "code",
   "execution_count": 76,
   "metadata": {},
   "outputs": [
    {
     "name": "stdout",
     "output_type": "stream",
     "text": [
      "None\n"
     ]
    }
   ],
   "source": [
    "print(playlist.get_current())"
   ]
  },
  {
   "cell_type": "code",
   "execution_count": 77,
   "metadata": {},
   "outputs": [
    {
     "name": "stdout",
     "output_type": "stream",
     "text": [
      "'Playlist:'\n"
     ]
    }
   ],
   "source": [
    "playlist.next_track()\n",
    "print(repr(str(playlist)))"
   ]
  },
  {
   "cell_type": "code",
   "execution_count": 78,
   "metadata": {},
   "outputs": [
    {
     "name": "stdout",
     "output_type": "stream",
     "text": [
      "Playlist:\n"
     ]
    }
   ],
   "source": [
    "playlist.next_track()\n",
    "print(playlist)"
   ]
  },
  {
   "cell_type": "code",
   "execution_count": 79,
   "metadata": {},
   "outputs": [
    {
     "name": "stdout",
     "output_type": "stream",
     "text": [
      "Error - No track currently selected to play.\n"
     ]
    }
   ],
   "source": [
    "playlist.play()"
   ]
  },
  {
   "cell_type": "code",
   "execution_count": 80,
   "metadata": {},
   "outputs": [
    {
     "name": "stdout",
     "output_type": "stream",
     "text": [
      "-------------------------\n",
      "Playlist:\n",
      "--> Looking for me; Paul Woolford and Diplo/Lomax (0)\n",
      "Giants; Dermot Kennedy (0)\n",
      "Holy; Justin Bieber Ft Chance (0)\n",
      "Should be:\n",
      "             Playlist:\n",
      "             -> Looking for me; Paul Woolford and Diplo / Lomax (0)\n",
      "             Giants; Dermot Kennedy (0)\n",
      "             Holy; Justin Bieber Ft Chance (0)\n",
      "-------------------------\n",
      "Playing: Looking for me; Paul Woolford and Diplo/Lomax (1)\n",
      "Should be:\n",
      "             Playing: Looking for me; Paul Woolford and Diplo / Lomax (1)\n",
      "-------------------------\n",
      "Current track: Giants; Dermot Kennedy (0)\n",
      "Should be:\n",
      "\tCurrent track: Giants; Dermot Kennedy (0)\n",
      "-------------------------\n",
      "Playlist:\n",
      "--> Giants; Dermot Kennedy (0)\n",
      "Holy; Justin Bieber Ft Chance (0)\n",
      "Should be:\n",
      "             Playlist:\n",
      "             -> Giants; Dermot Kennedy (0)\n",
      "             Holy; Justin Bieber Ft Chance (0)\n",
      "-------------------------\n",
      "Playing: Holy; Justin Bieber Ft Chance (1)\n",
      "Should be:\n",
      "\tPlaying: Holy; Justin Bieber Ft Chance (1)\n",
      "-------------------------\n",
      "Playlist:\n",
      "Giants; Dermot Kennedy (0)\n",
      "--> Holy; Justin Bieber Ft Chance (1)\n",
      "Lemonade; Internet Money / Gunna / Toliver (0)\n",
      "Should be:\n",
      "             Playlist:\n",
      "             Giants; Dermot Kennedy (0)\n",
      "             -> Holy; Justin Bieber Ft Chance (1)\n",
      "             Lemonade; Internet Money / Gunna / Toliver (0)\n"
     ]
    }
   ],
   "source": [
    "def sample_test():\n",
    "    \"\"\"Sample test method for assignment.\"\"\"\n",
    "    playlist = PyToonz()\n",
    "    t1 = Track('Looking for me', 'Paul Woolford and Diplo/Lomax', 0)\n",
    "    playlist.add_track(t1)\n",
    "    t2 = Track('Giants', 'Dermot Kennedy', 0)\n",
    "    playlist.add_track(t2)\n",
    "    t3 = Track('Holy', 'Justin Bieber Ft Chance', 0)\n",
    "    playlist.add_track(t3)\n",
    "    print('-' * 25)\n",
    "    print(playlist)\n",
    "    print(\"\"\"Should be:\n",
    "             Playlist:\n",
    "             -> Looking for me; Paul Woolford and Diplo / Lomax (0)\n",
    "             Giants; Dermot Kennedy (0)\n",
    "             Holy; Justin Bieber Ft Chance (0)\"\"\")\n",
    "    print('-' * 25)\n",
    "    playlist.play()\n",
    "    print(\"\"\"Should be:\n",
    "             Playing: Looking for me; Paul Woolford and Diplo / Lomax (1)\"\"\")\n",
    "    playlist.next_track()\n",
    "    print('-' * 25)\n",
    "    print(playlist.get_current())\n",
    "    print('Should be:\\n\\tCurrent track: Giants; Dermot Kennedy (0)')\n",
    "    playlist.prev_track()\n",
    "    playlist.remove_current()\n",
    "    print('-' * 25)\n",
    "    print(playlist)\n",
    "    print(\"\"\"Should be:\n",
    "             Playlist:\n",
    "             -> Giants; Dermot Kennedy (0)\n",
    "             Holy; Justin Bieber Ft Chance (0)\"\"\")\n",
    "    t4 = Track('Lemonade', 'Internet Money / Gunna / Toliver', 0)\n",
    "    playlist.add_track(t4)\n",
    "    playlist.next_track()\n",
    "    print('-' * 25)\n",
    "    playlist.play()\n",
    "    print('Should be:\\n\\tPlaying: Holy; Justin Bieber Ft Chance (1)')\n",
    "    print('-' * 25)\n",
    "    print(playlist)\n",
    "    print(\"\"\"Should be:\n",
    "             Playlist:\n",
    "             Giants; Dermot Kennedy (0)\n",
    "             -> Holy; Justin Bieber Ft Chance (1)\n",
    "             Lemonade; Internet Money / Gunna / Toliver (0)\"\"\")\n",
    "\n",
    "sample_test()"
   ]
  },
  {
   "cell_type": "code",
   "execution_count": 81,
   "metadata": {},
   "outputs": [],
   "source": [
    "soundtrack = PyToonz()"
   ]
  },
  {
   "cell_type": "code",
   "execution_count": 82,
   "metadata": {},
   "outputs": [],
   "source": [
    "s1 = Track('Honey, Honey', 'Amanda Seyfried, Ashley Lilley & Rachel McDowall')\n",
    "s2 = Track('Money, Money, Money', 'Meryl Streep, Julie Walters & Christine Baranski')\n",
    "s3 = Track('Mamma Mia', 'Meryl Streep')\n",
    "s4 = Track('Chiquitita', 'Meryl Streep, Julie Walters & Christine Baranski')\n",
    "s5 = Track('Dancing Queen', 'Meryl Streep, Julie Walters & Christine Baranski')\n",
    "s6 = Track('Our Last Summer', 'Colin Firth, Pierce Brosnan, Stellan Skarsgård, Amanda Seyfried & Meryl Streep')\n",
    "s7 = Track('Lay All Your Love on Me', 'Dominic Cooper & Amanda Seyfried')\n",
    "s8 = Track('Super Trouper', 'Meryl Streep, Julie Walters & Christine Baranski')\n",
    "s9 = Track('Gimme! Gimme! Gimme! (A Man After Midnight)', 'Amanda Seyfried, Ashley Lilley & Rachel McDowall')\n",
    "s10 = Track('The Name of the Game', 'Amanda Seyfried')\n",
    "s11 = Track('Voulez-Vous', 'Full Cast')\n",
    "s12 = Track('SOS', 'Pierce Brosnan & Meryl Streep')\n",
    "s13 = Track('Does Your Mother Know', 'Christine Baranski & Philip Michael')\n",
    "s14 = Track('Slipping Through My Fingers', 'Meryl Streep & Amanda Seyfried')\n",
    "s15 = Track('The Winner Takes It All', 'Meryl Streep')\n",
    "s16 = Track('When All Is Said and Done', 'Pierce Brosnan & Meryl Streep')\n",
    "s17 = Track('Take a Chance on Me', 'ulie Walters, Stellan Skarsgård, Colin Firth, Phillip Michael & Christine Baranski')\n",
    "s18 = Track('I Have a Dream', 'Amanda Seyfried')\n",
    "s19 = Track('Thank You for the Music', 'Amanda Seyfried')\n",
    "\n",
    "tracks = [s1, s2, s3, s4, s5, s6, s7, s8, s9, s10, s11, s12, s13, s14, s15, s16, s17, s18, s19]"
   ]
  },
  {
   "cell_type": "code",
   "execution_count": 83,
   "metadata": {},
   "outputs": [
    {
     "name": "stdout",
     "output_type": "stream",
     "text": [
      "Playlist:\n",
      "--> Honey, Honey; Amanda Seyfried, Ashley Lilley & Rachel McDowall (0)\n",
      "Money, Money, Money; Meryl Streep, Julie Walters & Christine Baranski (0)\n",
      "Mamma Mia; Meryl Streep (0)\n",
      "Chiquitita; Meryl Streep, Julie Walters & Christine Baranski (0)\n",
      "Dancing Queen; Meryl Streep, Julie Walters & Christine Baranski (0)\n",
      "Our Last Summer; Colin Firth, Pierce Brosnan, Stellan Skarsgård, Amanda Seyfried & Meryl Streep (0)\n",
      "Lay All Your Love on Me; Dominic Cooper & Amanda Seyfried (0)\n",
      "Super Trouper; Meryl Streep, Julie Walters & Christine Baranski (0)\n",
      "Gimme! Gimme! Gimme! (A Man After Midnight); Amanda Seyfried, Ashley Lilley & Rachel McDowall (0)\n",
      "The Name of the Game; Amanda Seyfried (0)\n",
      "Voulez-Vous; Full Cast (0)\n",
      "SOS; Pierce Brosnan & Meryl Streep (0)\n",
      "Does Your Mother Know; Christine Baranski & Philip Michael (0)\n",
      "Slipping Through My Fingers; Meryl Streep & Amanda Seyfried (0)\n",
      "The Winner Takes It All; Meryl Streep (0)\n",
      "When All Is Said and Done; Pierce Brosnan & Meryl Streep (0)\n",
      "Take a Chance on Me; ulie Walters, Stellan Skarsgård, Colin Firth, Phillip Michael & Christine Baranski (0)\n",
      "I Have a Dream; Amanda Seyfried (0)\n",
      "Thank You for the Music; Amanda Seyfried (0)\n"
     ]
    }
   ],
   "source": [
    "for track in tracks:\n",
    "    soundtrack.add_track(track)\n",
    "print(soundtrack)"
   ]
  },
  {
   "cell_type": "code",
   "execution_count": 87,
   "metadata": {},
   "outputs": [
    {
     "name": "stdout",
     "output_type": "stream",
     "text": [
      "Playing: Money, Money, Money; Meryl Streep, Julie Walters & Christine Baranski (3)\n",
      "Playing: Mamma Mia; Meryl Streep (3)\n",
      "Playing: Chiquitita; Meryl Streep, Julie Walters & Christine Baranski (3)\n",
      "Playing: Dancing Queen; Meryl Streep, Julie Walters & Christine Baranski (3)\n",
      "Playing: Our Last Summer; Colin Firth, Pierce Brosnan, Stellan Skarsgård, Amanda Seyfried & Meryl Streep (3)\n",
      "Playing: Lay All Your Love on Me; Dominic Cooper & Amanda Seyfried (3)\n",
      "Playing: Super Trouper; Meryl Streep, Julie Walters & Christine Baranski (3)\n",
      "Playing: Gimme! Gimme! Gimme! (A Man After Midnight); Amanda Seyfried, Ashley Lilley & Rachel McDowall (3)\n",
      "Playing: The Name of the Game; Amanda Seyfried (3)\n",
      "Playing: Voulez-Vous; Full Cast (3)\n",
      "Playing: SOS; Pierce Brosnan & Meryl Streep (3)\n",
      "Playing: Does Your Mother Know; Christine Baranski & Philip Michael (3)\n",
      "Playing: Slipping Through My Fingers; Meryl Streep & Amanda Seyfried (3)\n",
      "Playing: The Winner Takes It All; Meryl Streep (3)\n",
      "Playing: When All Is Said and Done; Pierce Brosnan & Meryl Streep (3)\n",
      "Playing: Take a Chance on Me; ulie Walters, Stellan Skarsgård, Colin Firth, Phillip Michael & Christine Baranski (3)\n",
      "Playing: I Have a Dream; Amanda Seyfried (3)\n",
      "Playing: Thank You for the Music; Amanda Seyfried (3)\n",
      "Playing: Honey, Honey; Amanda Seyfried, Ashley Lilley & Rachel McDowall (5)\n",
      "Playing: Money, Money, Money; Meryl Streep, Julie Walters & Christine Baranski (4)\n"
     ]
    }
   ],
   "source": [
    "for i in range(20):\n",
    "    soundtrack.play()\n",
    "    soundtrack.next_track()"
   ]
  },
  {
   "cell_type": "code",
   "execution_count": 88,
   "metadata": {},
   "outputs": [
    {
     "name": "stdout",
     "output_type": "stream",
     "text": [
      "Playlist:\n",
      "--> Honey, Honey; Amanda Seyfried, Ashley Lilley & Rachel McDowall (5)\n",
      "Money, Money, Money; Meryl Streep, Julie Walters & Christine Baranski (4)\n",
      "Mamma Mia; Meryl Streep (3)\n",
      "Chiquitita; Meryl Streep, Julie Walters & Christine Baranski (3)\n",
      "Dancing Queen; Meryl Streep, Julie Walters & Christine Baranski (3)\n",
      "Our Last Summer; Colin Firth, Pierce Brosnan, Stellan Skarsgård, Amanda Seyfried & Meryl Streep (3)\n",
      "Lay All Your Love on Me; Dominic Cooper & Amanda Seyfried (3)\n",
      "Super Trouper; Meryl Streep, Julie Walters & Christine Baranski (3)\n",
      "Gimme! Gimme! Gimme! (A Man After Midnight); Amanda Seyfried, Ashley Lilley & Rachel McDowall (3)\n",
      "The Name of the Game; Amanda Seyfried (3)\n",
      "Voulez-Vous; Full Cast (3)\n",
      "SOS; Pierce Brosnan & Meryl Streep (3)\n",
      "Does Your Mother Know; Christine Baranski & Philip Michael (3)\n",
      "Slipping Through My Fingers; Meryl Streep & Amanda Seyfried (3)\n",
      "The Winner Takes It All; Meryl Streep (3)\n",
      "When All Is Said and Done; Pierce Brosnan & Meryl Streep (3)\n",
      "Take a Chance on Me; ulie Walters, Stellan Skarsgård, Colin Firth, Phillip Michael & Christine Baranski (3)\n",
      "I Have a Dream; Amanda Seyfried (3)\n",
      "Thank You for the Music; Amanda Seyfried (3)\n"
     ]
    }
   ],
   "source": [
    "soundtrack.reset()\n",
    "print(soundtrack)"
   ]
  },
  {
   "cell_type": "code",
   "execution_count": 89,
   "metadata": {},
   "outputs": [
    {
     "name": "stdout",
     "output_type": "stream",
     "text": [
      "Playlist:\n",
      "--> Money, Money, Money; Meryl Streep, Julie Walters & Christine Baranski (4)\n",
      "Mamma Mia; Meryl Streep (3)\n",
      "Chiquitita; Meryl Streep, Julie Walters & Christine Baranski (3)\n",
      "Dancing Queen; Meryl Streep, Julie Walters & Christine Baranski (3)\n",
      "Our Last Summer; Colin Firth, Pierce Brosnan, Stellan Skarsgård, Amanda Seyfried & Meryl Streep (3)\n",
      "Lay All Your Love on Me; Dominic Cooper & Amanda Seyfried (3)\n",
      "Super Trouper; Meryl Streep, Julie Walters & Christine Baranski (3)\n",
      "Gimme! Gimme! Gimme! (A Man After Midnight); Amanda Seyfried, Ashley Lilley & Rachel McDowall (3)\n",
      "The Name of the Game; Amanda Seyfried (3)\n",
      "Voulez-Vous; Full Cast (3)\n",
      "SOS; Pierce Brosnan & Meryl Streep (3)\n",
      "Does Your Mother Know; Christine Baranski & Philip Michael (3)\n",
      "Slipping Through My Fingers; Meryl Streep & Amanda Seyfried (3)\n",
      "The Winner Takes It All; Meryl Streep (3)\n",
      "When All Is Said and Done; Pierce Brosnan & Meryl Streep (3)\n",
      "Take a Chance on Me; ulie Walters, Stellan Skarsgård, Colin Firth, Phillip Michael & Christine Baranski (3)\n",
      "I Have a Dream; Amanda Seyfried (3)\n",
      "Thank You for the Music; Amanda Seyfried (3)\n",
      "Honey, Honey; Amanda Seyfried, Ashley Lilley & Rachel McDowall (5)\n"
     ]
    }
   ],
   "source": [
    "soundtrack.remove_current()\n",
    "soundtrack.add_track(s1)\n",
    "print(soundtrack)"
   ]
  },
  {
   "cell_type": "code",
   "execution_count": 90,
   "metadata": {},
   "outputs": [
    {
     "name": "stdout",
     "output_type": "stream",
     "text": [
      "Playing: Honey, Honey; Amanda Seyfried, Ashley Lilley & Rachel McDowall (6)\n"
     ]
    }
   ],
   "source": [
    "soundtrack.prev_track()\n",
    "soundtrack.play()"
   ]
  },
  {
   "cell_type": "code",
   "execution_count": 91,
   "metadata": {},
   "outputs": [
    {
     "name": "stdout",
     "output_type": "stream",
     "text": [
      "Playlist:\n",
      "Money, Money, Money; Meryl Streep, Julie Walters & Christine Baranski (4)\n",
      "Mamma Mia; Meryl Streep (3)\n",
      "Chiquitita; Meryl Streep, Julie Walters & Christine Baranski (3)\n",
      "Dancing Queen; Meryl Streep, Julie Walters & Christine Baranski (3)\n",
      "Our Last Summer; Colin Firth, Pierce Brosnan, Stellan Skarsgård, Amanda Seyfried & Meryl Streep (3)\n",
      "Lay All Your Love on Me; Dominic Cooper & Amanda Seyfried (3)\n",
      "Super Trouper; Meryl Streep, Julie Walters & Christine Baranski (3)\n",
      "Gimme! Gimme! Gimme! (A Man After Midnight); Amanda Seyfried, Ashley Lilley & Rachel McDowall (3)\n",
      "The Name of the Game; Amanda Seyfried (3)\n",
      "Voulez-Vous; Full Cast (3)\n",
      "SOS; Pierce Brosnan & Meryl Streep (3)\n",
      "Does Your Mother Know; Christine Baranski & Philip Michael (3)\n",
      "Slipping Through My Fingers; Meryl Streep & Amanda Seyfried (3)\n",
      "The Winner Takes It All; Meryl Streep (3)\n",
      "When All Is Said and Done; Pierce Brosnan & Meryl Streep (3)\n",
      "Take a Chance on Me; ulie Walters, Stellan Skarsgård, Colin Firth, Phillip Michael & Christine Baranski (3)\n",
      "I Have a Dream; Amanda Seyfried (3)\n",
      "Thank You for the Music; Amanda Seyfried (3)\n",
      "--> Honey, Honey; Amanda Seyfried, Ashley Lilley & Rachel McDowall (6)\n"
     ]
    }
   ],
   "source": [
    "print(soundtrack)"
   ]
  },
  {
   "cell_type": "code",
   "execution_count": null,
   "metadata": {},
   "outputs": [],
   "source": []
  }
 ],
 "metadata": {
  "kernelspec": {
   "display_name": "Python 3",
   "language": "python",
   "name": "python3"
  },
  "language_info": {
   "codemirror_mode": {
    "name": "ipython",
    "version": 3
   },
   "file_extension": ".py",
   "mimetype": "text/x-python",
   "name": "python",
   "nbconvert_exporter": "python",
   "pygments_lexer": "ipython3",
   "version": "3.8.5"
  }
 },
 "nbformat": 4,
 "nbformat_minor": 4
}
