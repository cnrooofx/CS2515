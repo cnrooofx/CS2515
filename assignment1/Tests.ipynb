{
 "cells": [
  {
   "cell_type": "code",
   "execution_count": 1,
   "metadata": {},
   "outputs": [],
   "source": [
    "class DLNode:\n",
    "    \"\"\"Node for an item in a Doubly Linked List.\"\"\"\n",
    "\n",
    "    def __init__(self, item, prevnode, nextnode):\n",
    "        \"\"\"Create a DLNode object.\"\"\"\n",
    "        self.item = item\n",
    "        self.next = nextnode\n",
    "        self.prev = prevnode\n",
    "\n",
    "\n",
    "class Track:\n",
    "    \"\"\"Track object to be used in a PyToonz playlist.\"\"\"\n",
    "\n",
    "    def __init__(self, name, artiste, timesplayed=0):\n",
    "        \"\"\"Create a Track object.\n",
    "\n",
    "        Args:\n",
    "            name (str): The name of the Track\n",
    "            atriste (str): The atriste of the Track\n",
    "            timesplayed (int): Counter for track plays (Default: 0)\n",
    "        \"\"\"\n",
    "        self._name = name\n",
    "        self._artiste = artiste\n",
    "        self._timesplayed = timesplayed\n",
    "\n",
    "    def __str__(self):\n",
    "        \"\"\"Return a string representation of the track.\"\"\"\n",
    "        s = '{}; {} ({})'.format(self._name, self._artiste, self._timesplayed)\n",
    "        return s\n",
    "\n",
    "    def get_name(self):\n",
    "        \"\"\"Return the name of the track.\"\"\"\n",
    "        return self._name\n",
    "\n",
    "    def get_artiste(self):\n",
    "        \"\"\"Return the name of the artiste.\"\"\"\n",
    "        return self._artiste\n",
    "\n",
    "    def play(self):\n",
    "        \"\"\"Play the track and increment it's play count.\"\"\"\n",
    "        self._timesplayed += 1\n",
    "        return 'Playing: ' + str(self)\n",
    "\n",
    "\n",
    "class PyToonz:\n",
    "    \"\"\"Class for a PyToonz playlist.\"\"\"\n",
    "\n",
    "    def __init__(self):\n",
    "        \"\"\"Create a PyToonz object.\"\"\"\n",
    "        self._head = DLNode(None, None, None)\n",
    "        self._tail = DLNode(None, self._head, None)\n",
    "        self._head.next = self._tail\n",
    "        self._length = 0\n",
    "        self._current = None\n",
    "\n",
    "    def __str__(self):\n",
    "        \"\"\"Return a string representation of the playlist.\"\"\"\n",
    "        string = ['Playlist:']\n",
    "        if self._length > 0:\n",
    "            i = 0\n",
    "            node = self._head.next\n",
    "            while i < self._length:\n",
    "                item = str(node.item)\n",
    "                if node == self._current:\n",
    "                    item = '--> ' + item\n",
    "                string.append(item)\n",
    "                node = node.next\n",
    "                i += 1\n",
    "        return '\\n'.join(string)\n",
    "\n",
    "    def length(self):\n",
    "        \"\"\"Return the length of the playlist.\"\"\"\n",
    "        return self._length\n",
    "\n",
    "    def add_track(self, track):\n",
    "        \"\"\"Add track to the end of the playlist.\"\"\"\n",
    "        self._add_track_node(track, self._tail.prev)\n",
    "\n",
    "    def get_current(self):\n",
    "        \"\"\"Return the currently selected track.\"\"\"\n",
    "        if self._current is None:\n",
    "            return None\n",
    "        return 'Current track: ' + str(self._current.item)\n",
    "\n",
    "    def add_after(self, track):\n",
    "        \"\"\"Add a new track after the current track.\"\"\"\n",
    "        if self._current is not None:\n",
    "            self._add_track_node(track, self._current)\n",
    "        else:\n",
    "            self.add_track(track)  # Add to end if no current Track\n",
    "\n",
    "    def next_track(self):\n",
    "        \"\"\"Select the next track in the playlist.\"\"\"\n",
    "        if self._current is not None:\n",
    "            if self._current.next == self._tail:  # If the next track is tail\n",
    "                self._current = self._head.next  # Move current to first track\n",
    "            else:\n",
    "                self._current = self._current.next  # Set to the next track\n",
    "\n",
    "    def prev_track(self):\n",
    "        \"\"\"Select the previous track in the playlist.\"\"\"\n",
    "        if self._current is not None:\n",
    "            if self._current.prev == self._head:  # If the prev track is head\n",
    "                self._current = self._tail.prev  # Move current to last track\n",
    "            else:\n",
    "                self._current = self._current.prev  # Set to previous track\n",
    "\n",
    "    def reset(self):\n",
    "        \"\"\"Remove all tracks from the playlist.\"\"\"\n",
    "        node = self._head.next\n",
    "        while self._length > 0:\n",
    "            next_node = node.next  # Save next node to remove\n",
    "            self._remove_track_node(node)\n",
    "            node = next_node\n",
    "\n",
    "    def play(self):\n",
    "        \"\"\"Play the currently selected track.\"\"\"\n",
    "        if self._current is None:\n",
    "            print('Error - No track currently selected.')\n",
    "        else:\n",
    "            print(self._current.item.play())\n",
    "\n",
    "    def remove_current(self):\n",
    "        \"\"\"Remove the current track.\"\"\"\n",
    "        if self._current is not None:\n",
    "            self._remove_track_node(self._current)\n",
    "\n",
    "    def _add_track_node(self, track, before):\n",
    "        new_node = DLNode(track, None, None)  # Create new node object\n",
    "        after = before.next     # Get the next track in the playlist\n",
    "\n",
    "        new_node.next = after   # Link the new track into the playlist\n",
    "        after.prev = new_node\n",
    "        before.next = new_node\n",
    "        new_node.prev = before\n",
    "\n",
    "        if self._length == 0:   # If it's the first track, set it to current\n",
    "            self._current = new_node\n",
    "        self._length += 1       # Increment the playlist length\n",
    "\n",
    "    def _remove_track_node(self, track):\n",
    "        before = track.prev  # Track before removed one\n",
    "        after = track.next   # Track after removed one\n",
    "\n",
    "        before.next = after          # Link the two tracks together\n",
    "        after.prev = before\n",
    "\n",
    "        track.item = None  # Set the node at current to None\n",
    "        track.next = None\n",
    "        track.prev = None\n",
    "\n",
    "        self._length -= 1\n",
    "        if self._length == 0:  # If the list is now empty,\n",
    "            self._current = None  # Set the current to None\n",
    "        elif after == self._tail:  # If the item was the last in the list\n",
    "            self._current = before  # Set the current to the last item\n",
    "        else:\n",
    "            self._current = after"
   ]
  },
  {
   "cell_type": "markdown",
   "metadata": {},
   "source": [
    "### Track"
   ]
  },
  {
   "cell_type": "code",
   "execution_count": 2,
   "metadata": {},
   "outputs": [
    {
     "name": "stdout",
     "output_type": "stream",
     "text": [
      "Track 1; Artist 1 (0)\n",
      "Track 2; Artist 1 (0)\n",
      "Track 3; Artist 2 (0)\n",
      "Playing: Track 1; Artist 1 (1)\n",
      "Playing: Track 1; Artist 1 (2)\n",
      "Playing: Track 1; Artist 1 (3)\n",
      "Playing: Track 1; Artist 1 (4)\n",
      "Track 1; Artist 1 (4)\n",
      "Artist 1\n",
      "Track 3\n"
     ]
    }
   ],
   "source": [
    "t1 = Track('Track 1', 'Artist 1')\n",
    "t2 = Track('Track 2', 'Artist 1')\n",
    "t3 = Track('Track 3', 'Artist 2')\n",
    "print(t1)\n",
    "print(t2)\n",
    "print(t3)\n",
    "print(t1.play())\n",
    "print(t1.play())\n",
    "print(t1.play())\n",
    "print(t1.play())\n",
    "print(t1)\n",
    "print(t2.get_artiste())\n",
    "print(t3.get_name())\n",
    "t1 = Track('Track 1', 'Artist 1')"
   ]
  },
  {
   "cell_type": "markdown",
   "metadata": {},
   "source": [
    "### PyToonz"
   ]
  },
  {
   "cell_type": "code",
   "execution_count": 3,
   "metadata": {},
   "outputs": [],
   "source": [
    "playlist = PyToonz()"
   ]
  },
  {
   "cell_type": "code",
   "execution_count": 4,
   "metadata": {},
   "outputs": [
    {
     "name": "stdout",
     "output_type": "stream",
     "text": [
      "Playlist:\n",
      "None\n"
     ]
    }
   ],
   "source": [
    "print(playlist)\n",
    "print(playlist.get_current())"
   ]
  },
  {
   "cell_type": "code",
   "execution_count": 5,
   "metadata": {},
   "outputs": [
    {
     "name": "stdout",
     "output_type": "stream",
     "text": [
      "Playlist:\n",
      "--> Track 1; Artist 1 (0)\n",
      "Track 2; Artist 1 (0)\n",
      "Track 3; Artist 2 (0)\n"
     ]
    }
   ],
   "source": [
    "playlist.add_track(t1)\n",
    "playlist.add_track(t2)\n",
    "playlist.add_track(t3)\n",
    "print(playlist)"
   ]
  },
  {
   "cell_type": "code",
   "execution_count": 6,
   "metadata": {},
   "outputs": [
    {
     "name": "stdout",
     "output_type": "stream",
     "text": [
      "Playing: Track 1; Artist 1 (1)\n"
     ]
    }
   ],
   "source": [
    "playlist.play()"
   ]
  },
  {
   "cell_type": "code",
   "execution_count": 7,
   "metadata": {},
   "outputs": [
    {
     "name": "stdout",
     "output_type": "stream",
     "text": [
      "Playlist:\n",
      "Track 1; Artist 1 (1)\n",
      "--> Track 2; Artist 1 (0)\n",
      "Track 3; Artist 2 (0)\n"
     ]
    }
   ],
   "source": [
    "playlist.next_track()\n",
    "print(playlist)"
   ]
  },
  {
   "cell_type": "code",
   "execution_count": 8,
   "metadata": {},
   "outputs": [
    {
     "name": "stdout",
     "output_type": "stream",
     "text": [
      "'Playlist:\\nTrack 1; Artist 1 (1)\\n--> Track 2; Artist 1 (0)\\nTrack 4; Artiste 1 (0)\\nTrack 3; Artist 2 (0)'\n"
     ]
    }
   ],
   "source": [
    "t4 = Track('Track 4', 'Artiste 1')\n",
    "playlist.add_after(t4)\n",
    "print(repr(str(playlist)))"
   ]
  },
  {
   "cell_type": "code",
   "execution_count": 10,
   "metadata": {},
   "outputs": [
    {
     "name": "stdout",
     "output_type": "stream",
     "text": [
      "Playlist:\n",
      "Error - No track currently selected.\n"
     ]
    }
   ],
   "source": [
    "playlist.reset()\n",
    "print(playlist)\n",
    "playlist.play()"
   ]
  },
  {
   "cell_type": "code",
   "execution_count": 11,
   "metadata": {},
   "outputs": [
    {
     "name": "stdout",
     "output_type": "stream",
     "text": [
      "Playlist:\n",
      "Playlist:\n"
     ]
    }
   ],
   "source": [
    "playlist.next_track()\n",
    "playlist.next_track()\n",
    "print(playlist)\n",
    "playlist.remove_current()\n",
    "print(playlist)"
   ]
  },
  {
   "cell_type": "code",
   "execution_count": 12,
   "metadata": {},
   "outputs": [
    {
     "name": "stdout",
     "output_type": "stream",
     "text": [
      "Playlist:\n"
     ]
    }
   ],
   "source": [
    "playlist.remove_current()\n",
    "playlist.remove_current()\n",
    "print(playlist)"
   ]
  },
  {
   "cell_type": "code",
   "execution_count": 13,
   "metadata": {},
   "outputs": [
    {
     "name": "stdout",
     "output_type": "stream",
     "text": [
      "Playlist:\n"
     ]
    }
   ],
   "source": [
    "playlist.remove_current()\n",
    "print(playlist)"
   ]
  },
  {
   "cell_type": "code",
   "execution_count": 14,
   "metadata": {},
   "outputs": [
    {
     "data": {
      "text/plain": [
       "0"
      ]
     },
     "execution_count": 14,
     "metadata": {},
     "output_type": "execute_result"
    }
   ],
   "source": [
    "playlist.length()"
   ]
  },
  {
   "cell_type": "code",
   "execution_count": 15,
   "metadata": {},
   "outputs": [],
   "source": [
    "playlist.reset()"
   ]
  },
  {
   "cell_type": "code",
   "execution_count": 16,
   "metadata": {},
   "outputs": [
    {
     "name": "stdout",
     "output_type": "stream",
     "text": [
      "None\n"
     ]
    }
   ],
   "source": [
    "print(playlist.get_current())"
   ]
  },
  {
   "cell_type": "code",
   "execution_count": 17,
   "metadata": {},
   "outputs": [
    {
     "name": "stdout",
     "output_type": "stream",
     "text": [
      "'Playlist:'\n"
     ]
    }
   ],
   "source": [
    "playlist.next_track()\n",
    "print(repr(str(playlist)))"
   ]
  },
  {
   "cell_type": "code",
   "execution_count": null,
   "metadata": {},
   "outputs": [],
   "source": []
  }
 ],
 "metadata": {
  "kernelspec": {
   "display_name": "Python 3",
   "language": "python",
   "name": "python3"
  },
  "language_info": {
   "codemirror_mode": {
    "name": "ipython",
    "version": 3
   },
   "file_extension": ".py",
   "mimetype": "text/x-python",
   "name": "python",
   "nbconvert_exporter": "python",
   "pygments_lexer": "ipython3",
   "version": "3.8.5"
  }
 },
 "nbformat": 4,
 "nbformat_minor": 4
}
